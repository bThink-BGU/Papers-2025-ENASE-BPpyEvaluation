{
  "cells": [
    {
      "cell_type": "code",
      "execution_count": null,
      "metadata": {
        "colab": {
          "base_uri": "https://localhost:8080/"
        },
        "id": "kWItQd3k1PjI",
        "outputId": "e9ad9aea-5e1a-43d6-a4c6-27abb4848784"
      },
      "outputs": [
        {
          "output_type": "stream",
          "name": "stdout",
          "text": [
            "Installing PRISM (directory=/content/prism-4.8-linux64-x86)\n",
            "Setting path in startup script /content/prism-4.8-linux64-x86/bin/xprism...\n",
            "Setting path in startup script /content/prism-4.8-linux64-x86/bin/prism...\n",
            "Installation complete.\n",
            "PRISM\n",
            "=====\n",
            "\n",
            "Version: 4.8\n",
            "Date: Tue Jan 23 06:34:54 UTC 2024\n",
            "Hostname: 74dde8b27c3d\n",
            "Memory limits: cudd=1g, java(heap)=1g\n",
            "Command line: prism\n",
            "Usage: prism [options] <model-file> [<properties-file>] [more-options]\n",
            "\n",
            "For more information, type: prism -help\n"
          ]
        }
      ],
      "source": [
        "# obtain prism (used for prototyping)\n",
        "%%bash\n",
        "rm -r ./*\n",
        "wget -q https://www.prismmodelchecker.org/dl/prism-4.8-linux64-x86.tar.gz\n",
        "gunzip prism-4.8-linux64-x86.tar.gz\n",
        "tar -xf prism-4.8-linux64-x86.tar\n",
        "cd prism-4.8-linux64-x86\n",
        "./install.sh\n",
        "bin/prism\n",
        "ln -s prism-4.8-linux64-x86/bin/prism ../."
      ]
    },
    {
      "cell_type": "code",
      "execution_count": null,
      "metadata": {
        "colab": {
          "base_uri": "https://localhost:8080/"
        },
        "id": "Y9SkGxz8MToU",
        "outputId": "12339612-af0d-45ec-8a0e-314610215371"
      },
      "outputs": [
        {
          "output_type": "stream",
          "name": "stdout",
          "text": [
            "Collecting BPpy\n",
            "  Downloading bppy-1.0.1-py3-none-any.whl (31 kB)\n",
            "Collecting z3-solver>=4.8.5.0 (from BPpy)\n",
            "  Downloading z3_solver-4.12.5.0-py2.py3-none-manylinux2014_x86_64.whl (56.9 MB)\n",
            "     ━━━━━━━━━━━━━━━━━━━━━━━━━━━━━━━━━━━━━━━━ 56.9/56.9 MB 7.4 MB/s eta 0:00:00\n",
            "Requirement already satisfied: importlib-resources in /usr/local/lib/python3.10/dist-packages (from z3-solver>=4.8.5.0->BPpy) (6.1.1)\n",
            "Installing collected packages: z3-solver, BPpy\n",
            "Successfully installed BPpy-1.0.1 z3-solver-4.12.5.0\n"
          ]
        }
      ],
      "source": [
        "#install bppy\n",
        "%%bash\n",
        "pip install BPpy"
      ]
    },
    {
      "cell_type": "code",
      "execution_count": null,
      "metadata": {
        "id": "fHZhnkDI8gXE"
      },
      "outputs": [],
      "source": [
        "import bppy as bp\n",
        "from bppy.model.sync_statement import *\n",
        "from bppy.model.b_thread import *\n",
        "from bppy.analysis.bprogram_converter import BProgramConverter\n",
        "from bppy.utils.dfs import DFSBProgram\n",
        "import itertools"
      ]
    },
    {
      "cell_type": "code",
      "execution_count": null,
      "metadata": {
        "id": "BoRWtFOk7I7T"
      },
      "outputs": [],
      "source": [
        "class EvaluatorListener(bp.PrintBProgramRunnerListener):\n",
        "    def starting(self, b_program):\n",
        "        self.events = []\n",
        "    def ended(self, b_program):\n",
        "        pass\n",
        "    def event_selected(self, b_program, event):\n",
        "        self.events.append(event.name)\n",
        "        if len(self.events) == 20:\n",
        "            raise TimeoutError()"
      ]
    },
    {
      "cell_type": "code",
      "execution_count": null,
      "metadata": {
        "id": "Kjjvz7qShKPw"
      },
      "outputs": [],
      "source": [
        "def generate_model(doors_num=3, prizes_num=1, doors_opened_num=1,\n",
        "                   mode=bp.execution_thread):\n",
        "    if prizes_num + doors_opened_num >= doors_num:\n",
        "        return \"Invalid parameters\"\n",
        "    doors = [x for x in range(doors_num)]\n",
        "    all_open = [bp.BEvent(f'open{d}') for d in doors]\n",
        "\n",
        "    @mode\n",
        "    def hide_prizes():\n",
        "        prizes = yield choice({i: 1 / len(doors) for i in doors},\n",
        "                             repeat=prizes_num, replace=False,sorted=True)\n",
        "        if prizes_num == 1:\n",
        "            prizes = (prizes,)\n",
        "        for hide in prizes:\n",
        "            yield sync(request=bp.BEvent(f'hide{hide}'))\n",
        "        yield sync(request=bp.BEvent('done_hiding'))\n",
        "        dont_open = [bp.BEvent(f'open{d}') for d in prizes]\n",
        "        yield sync(block=dont_open, waitFor=bp.BEvent('done_host_opening'))\n",
        "        final_door = yield sync(waitFor=all_open)\n",
        "        if int(final_door.name[4:]) in prizes:\n",
        "            yield sync(request=bp.BEvent('win'))\n",
        "        else:\n",
        "            yield sync(request=bp.BEvent('lose'))\n",
        "\n",
        "    @mode\n",
        "    def make_a_guess():\n",
        "        yield sync(waitFor=bp.BEvent('done_hiding'))\n",
        "        guess = 0\n",
        "        yield sync(request=bp.BEvent(f'guess{guess}'))\n",
        "        yield sync(block=bp.BEvent(f'open{guess}'))\n",
        "\n",
        "\n",
        "    @mode\n",
        "    def open_doors():\n",
        "        yield sync(waitFor=[ bp.BEvent(f'guess{d}') for d in doors])\n",
        "\n",
        "        blocked = []\n",
        "        for _ in range(doors_opened_num):\n",
        "          e = yield sync(request=[e for e in all_open if e not in blocked])\n",
        "          blocked += [e]\n",
        "\n",
        "        yield sync(request=bp.BEvent('done_host_opening'))\n",
        "        yield sync(request=[e for e in all_open if e not in blocked])\n",
        "\n",
        "\n",
        "    bp_gen = lambda: bp.BProgram(bthreads=[hide_prizes(), make_a_guess(), open_doors()],\n",
        "                             event_selection_strategy=bp.SimpleEventSelectionStrategy(),\n",
        "                             listener=EvaluatorListener())\n",
        "    event_list = ([bp.BEvent('done_hiding'), bp.BEvent('done_host_opening'), bp.BEvent('guess0')] +\n",
        "                  [bp.BEvent(e) for e in ['win', 'lose']] +\n",
        "                  [bp.BEvent(f'{action}{i}') for action, i in itertools.product(['hide', 'open'], doors)])\n",
        "    return bp_gen, event_list"
      ]
    },
    {
      "cell_type": "code",
      "execution_count": null,
      "metadata": {
        "colab": {
          "base_uri": "https://localhost:8080/"
        },
        "id": "rQPWaSeyfpH5",
        "outputId": "32a54ff7-0cb0-480c-ad48-689908c77880"
      },
      "outputs": [
        {
          "output_type": "stream",
          "name": "stdout",
          "text": [
            "['hide2', 'hide4', 'done_hiding', 'guess0', 'open3', 'open1', 'done_host_opening', 'open2', 'win']\n"
          ]
        }
      ],
      "source": [
        "# sanity check\n",
        "bp_gen, event_list = generate_model(mode=bp.execution_thread, doors_num=5,\n",
        "                                    prizes_num=2, doors_opened_num=2)\n",
        "model = bp_gen()\n",
        "model.run()\n",
        "print(model.listener.events)"
      ]
    },
    {
      "cell_type": "markdown",
      "source": [
        "# Parameter input"
      ],
      "metadata": {
        "id": "6ytRVX6ZNwsF"
      }
    },
    {
      "cell_type": "code",
      "source": [
        "DOORS_NUM = 6\n",
        "PRIZES_NUM = 2\n",
        "DOORS_OPEN_NUM = 2"
      ],
      "metadata": {
        "id": "4fZ2DZoUNv9a"
      },
      "execution_count": 7,
      "outputs": []
    },
    {
      "cell_type": "markdown",
      "metadata": {
        "id": "JEDGJL4TAXSP"
      },
      "source": [
        "# Sampling evaluation"
      ]
    },
    {
      "cell_type": "code",
      "execution_count": 8,
      "metadata": {
        "id": "nEZNYW14KMTo"
      },
      "outputs": [],
      "source": [
        "import numpy as np\n",
        "from scipy import stats\n",
        "import matplotlib.pyplot as plt\n",
        "from time import perf_counter_ns"
      ]
    },
    {
      "cell_type": "code",
      "execution_count": 9,
      "metadata": {
        "id": "X88cTroryk8G"
      },
      "outputs": [],
      "source": [
        "def sample_comb(dpo=(3,1,1), gen_function=generate_model, max_run=1000):\n",
        "    d,p,o = dpo\n",
        "    bp_gen, _ = gen_function(d, p, o, mode=bp.execution_thread)\n",
        "    hist = []\n",
        "    hist_mean, mean = [], 0\n",
        "    times = []\n",
        "    start_time = perf_counter_ns()\n",
        "    for n in range(1, max_run):\n",
        "        model = bp_gen()\n",
        "        model.run()\n",
        "        res = model.listener.events\n",
        "        new_val = int('win' in res)\n",
        "        hist.append(new_val)\n",
        "        delta = new_val - mean\n",
        "        mean += delta / n\n",
        "        hist_mean.append(mean)\n",
        "        times.append(perf_counter_ns()-start_time)\n",
        "    return(np.array(hist_mean), hist, np.array(times)/1000000000)"
      ]
    },
    {
      "cell_type": "code",
      "source": [
        "m, h, t =  sample_comb((DOORS_NUM, PRIZES_NUM, DOORS_OPEN_NUM))\n",
        "plt.plot(t[10:], m[10:])"
      ],
      "metadata": {
        "colab": {
          "base_uri": "https://localhost:8080/",
          "height": 447
        },
        "id": "6hhyRzvSfMeB",
        "outputId": "3ba69901-428c-46bd-9fd5-19fea9b3c64a"
      },
      "execution_count": 10,
      "outputs": [
        {
          "output_type": "execute_result",
          "data": {
            "text/plain": [
              "[<matplotlib.lines.Line2D at 0x7a1164f9a470>]"
            ]
          },
          "metadata": {},
          "execution_count": 10
        },
        {
          "output_type": "display_data",
          "data": {
            "text/plain": [
              "<Figure size 640x480 with 1 Axes>"
            ],
            "image/png": "[encoded data removed]"
          },
          "metadata": {}
        }
      ]
    },
    {
      "cell_type": "markdown",
      "metadata": {
        "id": "6DTPoOziCQRZ"
      },
      "source": [
        "# Translation evaluation"
      ]
    },
    {
      "cell_type": "code",
      "execution_count": 11,
      "metadata": {
        "id": "e7iBH0peimu6"
      },
      "outputs": [],
      "source": [
        "bp_gen, event_list = generate_model(doors_num=DOORS_NUM,\n",
        "                                    prizes_num=PRIZES_NUM,\n",
        "                                    doors_opened_num=DOORS_OPEN_NUM,\n",
        "                                    mode=bp.analysis_thread)\n",
        "event_nums = {e.name: i for i, e in enumerate(event_list)}\n",
        "conv = BProgramConverter(bp_gen, event_list)\n",
        "output = conv.to_prism('monty.prism')"
      ]
    },
    {
      "cell_type": "code",
      "execution_count": 12,
      "metadata": {
        "id": "dKva1piviI19"
      },
      "outputs": [],
      "source": [
        "win = f'(F event=' + str(event_nums['win']) + ')'\n",
        "with open(\"prop.csl\", 'w+') as f:\n",
        "  f.write(f\"P=? [{win}]\")"
      ]
    },
    {
      "cell_type": "code",
      "execution_count": 13,
      "metadata": {
        "id": "C8sjvvvIUkr7",
        "colab": {
          "base_uri": "https://localhost:8080/"
        },
        "outputId": "872941ea-444a-496f-8bfc-ef2eb631f1f4"
      },
      "outputs": [
        {
          "output_type": "stream",
          "name": "stdout",
          "text": [
            "PRISM\n",
            "=====\n",
            "\n",
            "Version: 4.8\n",
            "Date: Tue Jan 23 07:29:30 UTC 2024\n",
            "Hostname: 74dde8b27c3d\n",
            "Memory limits: cudd=3g, java(heap)=4g\n",
            "Command line: prism -cuddmaxmem 3g -javamaxmem 4g -javastack 500m -dtmc monty.prism prop.csl\n",
            "\n",
            "Parsing model file \"monty.prism\"...\n",
            "\n",
            "Type:        DTMC\n",
            "Modules:     main bt0 bt1 bt2\n",
            "Variables:   event s_bt0 s_bt1 s_bt2\n",
            "\n",
            "Parsing properties file \"prop.csl\"...\n",
            "\n",
            "1 property:\n",
            "(1) P=? [ (F event=3) ]\n",
            "\n",
            "---------------------------------------------------------------------\n",
            "\n",
            "Model checking: P=? [ (F event=3) ]\n",
            "\n",
            "Building model...\n",
            "\n",
            "Computing reachable states...\n",
            "\n",
            "Reachability (BFS): 11 iterations in 0.03 seconds (average 0.002636, setup 0.00)\n",
            "\n",
            "Time for model construction: 1.278 seconds.\n",
            "\n",
            "Warning: Deadlocks detected and fixed in 2 states\n",
            "\n",
            "Type:        DTMC\n",
            "States:      443 (1 initial)\n",
            "Transitions: 802\n",
            "\n",
            "Transition matrix: 5678 nodes (6 terminal), 802 minterms, vars: 22r/22c\n",
            "\n",
            "Prob0: 11 iterations in 0.03 seconds (average 0.002273, setup 0.00)\n",
            "\n",
            "Prob1: 10 iterations in 0.01 seconds (average 0.001500, setup 0.00)\n",
            "\n",
            "yes = 26, no = 51, maybe = 366\n",
            "\n",
            "Computing remaining probabilities...\n",
            "Engine: Hybrid\n",
            "\n",
            "Building hybrid MTBDD matrix... [levels=22, nodes=8157] [382.4 KB]\n",
            "Adding explicit sparse matrices... [levels=22, num=1, compact] [3.3 KB]\n",
            "Creating vector for diagonals... [dist=1, compact] [0.9 KB]\n",
            "Creating vector for RHS... [dist=2, compact] [0.9 KB]\n",
            "Allocating iteration vectors... [2 x 3.5 KB]\n",
            "TOTAL: [394.3 KB]\n",
            "\n",
            "Starting iterations...\n",
            "\n",
            "Jacobi: 10 iterations in 0.04 seconds (average 0.000000, setup 0.04)\n",
            "\n",
            "Value in the initial state: 0.5555555555555556\n",
            "\n",
            "Time for model checking: 0.073 seconds.\n",
            "\n",
            "Result: 0.5555555555555556 (exact floating point)\n",
            "\n",
            "---------------------------------------------------------------------\n",
            "\n",
            "Note: There was 1 warning during computation.\n",
            "\n"
          ]
        }
      ],
      "source": [
        "!./prism -cuddmaxmem 3g -javamaxmem 4g -javastack 500m -dtmc monty.prism  prop.csl"
      ]
    }
  ],
  "metadata": {
    "colab": {
      "provenance": []
    },
    "kernelspec": {
      "display_name": "Python 3",
      "name": "python3"
    },
    "language_info": {
      "name": "python"
    }
  },
  "nbformat": 4,
  "nbformat_minor": 0
}