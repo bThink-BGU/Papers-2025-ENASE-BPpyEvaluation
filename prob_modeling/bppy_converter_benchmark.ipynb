{
  "cells": [
    {
      "cell_type": "code",
      "execution_count": 1,
      "metadata": {
        "colab": {
          "base_uri": "https://localhost:8080/"
        },
        "id": "kWItQd3k1PjI",
        "outputId": "b1db4e8b-b346-4879-8cee-f5882c66b99a"
      },
      "outputs": [
        {
          "output_type": "stream",
          "name": "stdout",
          "text": [
            "Installing PRISM (directory=/content/prism-4.8-linux64-x86)\n",
            "Setting path in startup script /content/prism-4.8-linux64-x86/bin/xprism...\n",
            "Setting path in startup script /content/prism-4.8-linux64-x86/bin/prism...\n",
            "Installation complete.\n",
            "PRISM\n",
            "=====\n",
            "\n",
            "Version: 4.8\n",
            "Date: Sat Jan 13 10:35:57 UTC 2024\n",
            "Hostname: 6204e51f6f1c\n",
            "Memory limits: cudd=1g, java(heap)=1g\n",
            "Command line: prism\n",
            "Usage: prism [options] <model-file> [<properties-file>] [more-options]\n",
            "\n",
            "For more information, type: prism -help\n"
          ]
        }
      ],
      "source": [
        "# obtain prism (used for prototyping)\n",
        "%%bash\n",
        "rm -r ./*\n",
        "wget -q https://www.prismmodelchecker.org/dl/prism-4.8-linux64-x86.tar.gz\n",
        "gunzip prism-4.8-linux64-x86.tar.gz\n",
        "tar -xf prism-4.8-linux64-x86.tar\n",
        "cd prism-4.8-linux64-x86\n",
        "./install.sh\n",
        "bin/prism\n",
        "ln -s prism-4.8-linux64-x86/bin/prism ../."
      ]
    },
    {
      "cell_type": "code",
      "execution_count": 2,
      "metadata": {
        "colab": {
          "base_uri": "https://localhost:8080/"
        },
        "id": "Y9SkGxz8MToU",
        "outputId": "70bccc29-239a-4ab4-d897-d4661ee7d574"
      },
      "outputs": [
        {
          "output_type": "stream",
          "name": "stdout",
          "text": [
            "Processing ./BPpy-master\n",
            "  Preparing metadata (setup.py): started\n",
            "  Preparing metadata (setup.py): finished with status 'done'\n",
            "Requirement already satisfied: z3-solver>=4.8.5.0 in /usr/local/lib/python3.10/dist-packages (from bppy==1.0.1) (4.12.4.0)\n",
            "Building wheels for collected packages: bppy\n",
            "  Building wheel for bppy (setup.py): started\n",
            "  Building wheel for bppy (setup.py): finished with status 'done'\n",
            "  Created wheel for bppy: filename=bppy-1.0.1-py3-none-any.whl size=31893 sha256=8eb9a301067281d1e2480e6fce71acde1ac395067891a9bc6feb9f306dbb02de\n",
            "  Stored in directory: /root/.cache/pip/wheels/95/ba/83/7029e27aa75fe66a3305735f4df34180688f429cb7ad1976e5\n",
            "Successfully built bppy\n",
            "Installing collected packages: bppy\n",
            "  Attempting uninstall: bppy\n",
            "    Found existing installation: bppy 1.0.1\n",
            "    Uninstalling bppy-1.0.1:\n",
            "      Successfully uninstalled bppy-1.0.1\n",
            "Successfully installed bppy-1.0.1\n"
          ]
        }
      ],
      "source": [
        "#install bppy\n",
        "%%bash\n",
        "wget -q https://github.com/bThink-BGU/BPpy/archive/master.zip\n",
        "unzip -q master.zip\n",
        "pip install BPpy-master/."
      ]
    },
    {
      "cell_type": "code",
      "execution_count": 3,
      "metadata": {
        "id": "fHZhnkDI8gXE"
      },
      "outputs": [],
      "source": [
        "import bppy as bp\n",
        "from bppy.model.sync_statement import *\n",
        "from bppy.model.b_thread import *\n",
        "from bppy.analysis.bprogram_converter import BProgramConverter\n",
        "from bppy.utils.dfs import DFSBProgram\n",
        "import itertools"
      ]
    },
    {
      "cell_type": "code",
      "execution_count": 4,
      "metadata": {
        "id": "BoRWtFOk7I7T"
      },
      "outputs": [],
      "source": [
        "class EvaluatorListener(bp.PrintBProgramRunnerListener):\n",
        "    def starting(self, b_program):\n",
        "        self.events = []\n",
        "    def ended(self, b_program):\n",
        "        pass\n",
        "    def event_selected(self, b_program, event):\n",
        "        self.events.append(event.name)\n",
        "        if len(self.events) == 20:\n",
        "            raise TimeoutError()"
      ]
    },
    {
      "cell_type": "code",
      "execution_count": 5,
      "metadata": {
        "id": "Kjjvz7qShKPw"
      },
      "outputs": [],
      "source": [
        "def generate_model(doors_num=3, prizes_num=1, doors_opened_num=1,\n",
        "                   mode=bp.execution_thread):\n",
        "    if prizes_num + doors_opened_num >= doors_num:\n",
        "        return \"Invalid parameters\"\n",
        "    doors = [x for x in range(doors_num)]\n",
        "    all_open = [bp.BEvent(f'open{d}') for d in doors]\n",
        "\n",
        "    @mode\n",
        "    def hide_prizes():\n",
        "        prizes = yield choice({i: 1 / len(doors) for i in doors},\n",
        "                             repeat=prizes_num, replace=False,sorted=True)\n",
        "        if prizes_num == 1:\n",
        "            prizes = (prizes,)\n",
        "        for hide in prizes:\n",
        "            yield sync(request=bp.BEvent(f'hide{hide}'))\n",
        "        yield sync(request=bp.BEvent('done_hiding'))\n",
        "        dont_open = [bp.BEvent(f'open{d}') for d in prizes]\n",
        "        yield sync(block=dont_open, waitFor=bp.BEvent('done_host_opening'))\n",
        "        final_door = yield sync(waitFor=all_open)\n",
        "        if int(final_door.name[4:]) in prizes:\n",
        "            yield sync(request=bp.BEvent('win'))\n",
        "        else:\n",
        "            yield sync(request=bp.BEvent('lose'))\n",
        "\n",
        "    @mode\n",
        "    def make_a_guess():\n",
        "        yield sync(waitFor=bp.BEvent('done_hiding'))\n",
        "        guess = 0\n",
        "        yield sync(request=bp.BEvent(f'guess{guess}'))\n",
        "        yield sync(block=bp.BEvent(f'open{guess}'))\n",
        "\n",
        "\n",
        "    @mode\n",
        "    def open_doors():\n",
        "        yield sync(waitFor=[ bp.BEvent(f'guess{d}') for d in doors])\n",
        "\n",
        "        blocked = []\n",
        "        for _ in range(doors_opened_num):\n",
        "          e = yield sync(request=[e for e in all_open if e not in blocked])\n",
        "          blocked += [e]\n",
        "\n",
        "        yield sync(request=bp.BEvent('done_host_opening'))\n",
        "        yield sync(request=[e for e in all_open if e not in blocked])\n",
        "\n",
        "\n",
        "    bp_gen = lambda: bp.BProgram(bthreads=[hide_prizes(), make_a_guess(), open_doors()],\n",
        "                             event_selection_strategy=bp.SimpleEventSelectionStrategy(),\n",
        "                             listener=EvaluatorListener())\n",
        "    event_list = ([bp.BEvent('done_hiding'), bp.BEvent('done_host_opening'), bp.BEvent('guess0')] +\n",
        "                  [bp.BEvent(e) for e in ['win', 'lose']] +\n",
        "                  [bp.BEvent(f'{action}{i}') for action, i in itertools.product(['hide', 'open'], doors)])\n",
        "    return bp_gen, event_list"
      ]
    },
    {
      "cell_type": "code",
      "execution_count": 6,
      "metadata": {
        "colab": {
          "base_uri": "https://localhost:8080/"
        },
        "id": "rQPWaSeyfpH5",
        "outputId": "c5a84569-5ce6-4da1-86c7-3aa7f7d9f01d"
      },
      "outputs": [
        {
          "output_type": "stream",
          "name": "stdout",
          "text": [
            "['hide1', 'hide4', 'done_hiding', 'guess0', 'open3', 'open2', 'done_host_opening', 'open1', 'win']\n"
          ]
        }
      ],
      "source": [
        "# sanity check\n",
        "bp_gen, event_list = generate_model(mode=bp.execution_thread, doors_num=5,\n",
        "                                    prizes_num=2, doors_opened_num=2)\n",
        "model = bp_gen()\n",
        "model.run()\n",
        "print(model.listener.events)"
      ]
    },
    {
      "cell_type": "markdown",
      "metadata": {
        "id": "JEDGJL4TAXSP"
      },
      "source": [
        "# Sampling evaluation"
      ]
    },
    {
      "cell_type": "code",
      "execution_count": 7,
      "metadata": {
        "id": "nEZNYW14KMTo"
      },
      "outputs": [],
      "source": [
        "import numpy as np\n",
        "from scipy import stats\n",
        "import matplotlib.pyplot as plt\n",
        "from time import perf_counter_ns"
      ]
    },
    {
      "cell_type": "code",
      "execution_count": 8,
      "metadata": {
        "id": "X88cTroryk8G"
      },
      "outputs": [],
      "source": [
        "def sample_comb(dpo=(3,1,1), gen_function=generate_model, max_run=1000):\n",
        "    d,p,o = dpo\n",
        "    bp_gen, _ = gen_function(d, p, o, mode=bp.execution_thread)\n",
        "    hist = []\n",
        "    hist_mean, mean = [], 0\n",
        "    times = []\n",
        "    start_time = perf_counter_ns()\n",
        "    for n in range(1, max_run):\n",
        "        model = bp_gen()\n",
        "        model.run()\n",
        "        res = model.listener.events\n",
        "        new_val = int('win' in res)\n",
        "        hist.append(new_val)\n",
        "        delta = new_val - mean\n",
        "        mean += delta / n\n",
        "        hist_mean.append(mean)\n",
        "        times.append(perf_counter_ns()-start_time)\n",
        "    return(np.array(hist_mean), hist, np.array(times)/1000000000)"
      ]
    },
    {
      "cell_type": "code",
      "source": [
        "m, h, t=  sample_comb((4, 2, 1))\n",
        "m[-1]"
      ],
      "metadata": {
        "colab": {
          "base_uri": "https://localhost:8080/"
        },
        "id": "6hhyRzvSfMeB",
        "outputId": "cd8f9db7-a557-420b-82b5-392409a0b314"
      },
      "execution_count": 9,
      "outputs": [
        {
          "output_type": "execute_result",
          "data": {
            "text/plain": [
              "0.7597597597597605"
            ]
          },
          "metadata": {},
          "execution_count": 9
        }
      ]
    },
    {
      "cell_type": "code",
      "execution_count": 10,
      "metadata": {
        "id": "rWsC7LPHLZdV",
        "colab": {
          "base_uri": "https://localhost:8080/",
          "height": 452
        },
        "outputId": "43e24f96-f7fb-4d58-9de0-96c4c8dbb963"
      },
      "outputs": [
        {
          "output_type": "execute_result",
          "data": {
            "text/plain": [
              "[<matplotlib.lines.Line2D at 0x7f4ab5f0d390>]"
            ]
          },
          "metadata": {},
          "execution_count": 10
        },
        {
          "output_type": "display_data",
          "data": {
            "text/plain": [
              "<Figure size 640x480 with 1 Axes>"
            ],
            "image/png": "[encoded data removed]"
          },
          "metadata": {}
        }
      ],
      "source": [
        "plt.plot(t[10:], m[10:])"
      ]
    },
    {
      "cell_type": "markdown",
      "metadata": {
        "id": "6DTPoOziCQRZ"
      },
      "source": [
        "# Translation evaluation"
      ]
    },
    {
      "cell_type": "code",
      "execution_count": 14,
      "metadata": {
        "id": "e7iBH0peimu6"
      },
      "outputs": [],
      "source": [
        "d_nums = 4\n",
        "bp_gen, event_list = generate_model(doors_num=d_nums,\n",
        "                                    prizes_num=2,\n",
        "                                    doors_opened_num=1,\n",
        "                                    mode=bp.analysis_thread)\n",
        "event_nums = {e.name: i for i, e in enumerate(event_list)}\n",
        "conv = BProgramConverter(bp_gen, event_list)\n",
        "output = conv.to_prism('monty.prism')"
      ]
    },
    {
      "cell_type": "code",
      "execution_count": 15,
      "metadata": {
        "id": "dKva1piviI19"
      },
      "outputs": [],
      "source": [
        "win = f'(F event=' + str(event_nums['win']) + ')'\n",
        "with open(\"prop.csl\", 'w+') as f:\n",
        "  f.write(f\"P=? [{win}]\")"
      ]
    },
    {
      "cell_type": "code",
      "execution_count": 16,
      "metadata": {
        "id": "C8sjvvvIUkr7",
        "colab": {
          "base_uri": "https://localhost:8080/"
        },
        "outputId": "b11af08f-b57f-420f-e076-1d2ebf085256"
      },
      "outputs": [
        {
          "output_type": "stream",
          "name": "stdout",
          "text": [
            "PRISM\n",
            "=====\n",
            "\n",
            "Version: 4.8\n",
            "Date: Sat Jan 13 10:36:59 UTC 2024\n",
            "Hostname: 6204e51f6f1c\n",
            "Memory limits: cudd=3g, java(heap)=4g\n",
            "Command line: prism -cuddmaxmem 3g -javamaxmem 4g -javastack 500m -dtmc monty.prism prop.csl\n",
            "\n",
            "Parsing model file \"monty.prism\"...\n",
            "\n",
            "Type:        DTMC\n",
            "Modules:     main bt0 bt1 bt2\n",
            "Variables:   event s_bt0 s_bt1 s_bt2\n",
            "\n",
            "Parsing properties file \"prop.csl\"...\n",
            "\n",
            "1 property:\n",
            "(1) P=? [ (F event=3) ]\n",
            "\n",
            "---------------------------------------------------------------------\n",
            "\n",
            "Model checking: P=? [ (F event=3) ]\n",
            "\n",
            "Building model...\n",
            "\n",
            "Computing reachable states...\n",
            "\n",
            "Reachability (BFS): 10 iterations in 0.00 seconds (average 0.000400, setup 0.00)\n",
            "\n",
            "Time for model construction: 0.387 seconds.\n",
            "\n",
            "Warning: Deadlocks detected and fixed in 2 states\n",
            "\n",
            "Type:        DTMC\n",
            "States:      66 (1 initial)\n",
            "Transitions: 83\n",
            "\n",
            "Transition matrix: 878 nodes (4 terminal), 83 minterms, vars: 16r/16c\n",
            "\n",
            "Prob0: 10 iterations in 0.00 seconds (average 0.000300, setup 0.00)\n",
            "\n",
            "Prob1: 9 iterations in 0.01 seconds (average 0.001000, setup 0.00)\n",
            "\n",
            "yes = 31, no = 7, maybe = 28\n",
            "\n",
            "Computing remaining probabilities...\n",
            "Engine: Hybrid\n",
            "\n",
            "Building hybrid MTBDD matrix... [levels=16, nodes=609] [28.5 KB]\n",
            "Adding explicit sparse matrices... [levels=16, num=1, compact] [0.3 KB]\n",
            "Creating vector for diagonals... [dist=1, compact] [0.1 KB]\n",
            "Creating vector for RHS... [dist=2, compact] [0.1 KB]\n",
            "Allocating iteration vectors... [2 x 0.5 KB]\n",
            "TOTAL: [30.1 KB]\n",
            "\n",
            "Starting iterations...\n",
            "\n",
            "Jacobi: 9 iterations in 0.00 seconds (average 0.000000, setup 0.00)\n",
            "\n",
            "Value in the initial state: 0.7500000000000001\n",
            "\n",
            "Time for model checking: 0.046 seconds.\n",
            "\n",
            "Result: 0.7500000000000001 (exact floating point)\n",
            "\n",
            "---------------------------------------------------------------------\n",
            "\n",
            "Note: There was 1 warning during computation.\n",
            "\n"
          ]
        }
      ],
      "source": [
        "!./prism -cuddmaxmem 3g -javamaxmem 4g -javastack 500m -dtmc monty.prism  prop.csl"
      ]
    }
  ],
  "metadata": {
    "colab": {
      "provenance": []
    },
    "kernelspec": {
      "display_name": "Python 3",
      "name": "python3"
    },
    "language_info": {
      "name": "python"
    }
  },
  "nbformat": 4,
  "nbformat_minor": 0
}